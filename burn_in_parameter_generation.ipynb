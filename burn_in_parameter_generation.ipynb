{
 "cells": [
  {
   "cell_type": "markdown",
   "metadata": {},
   "source": [
    "# Generating parameters for the burn-in set"
   ]
  },
  {
   "cell_type": "markdown",
   "metadata": {},
   "source": [
    "This notebook generates parameters for selected systems for the \"burn-in\" set. \n",
    "\n",
    "The workflow starts with generating OpenMM systems for the protien and ligands. Parameters for the ligands are derrived from the \"Sage\" force field with AM1-BCC charges, while the protein using AMBER14SB and the TIP3P model is used for the water molecules. \n",
    "\n",
    "These openMM systems are converted for use in the ParmEd library, before being exported as GROMACS gro/top input files.\n",
    "\n",
    "The burn-in set contains the following systems:\n",
    "- BRD4(1) with 2 ligands\n",
    "- cmet with 2 ligands\n",
    "- CycloD with 2 frgaments and a merged ligand\n",
    "- jnk1 with 2 ligands\n",
    "- p38 with 2 ligands\n",
    "- thrombin with 2 ligands\n",
    "\n",
    "This notebook was based off the super notebook examples that are available on the Open Force Field GitHub page."
   ]
  },
  {
   "cell_type": "markdown",
   "metadata": {},
   "source": [
    "### Imports and functions to assist in parameter generation"
   ]
  },
  {
   "cell_type": "code",
   "execution_count": 1,
   "metadata": {},
   "outputs": [
    {
     "name": "stderr",
     "output_type": "stream",
     "text": [
      "Warning: Unable to load toolkit 'OpenEye Toolkit'. The Open Force Field Toolkit does not require the OpenEye Toolkits, and can use RDKit/AmberTools instead. However, if you have a valid license for the OpenEye Toolkits, consider installing them for faster performance and additional file format support: https://docs.eyesopen.com/toolkits/python/quickstart-python/linuxosx.html OpenEye offers free Toolkit licenses for academics: https://www.eyesopen.com/academic-licensing\n",
      "Warning: importing 'simtk.openmm' is deprecated.  Import 'openmm' instead.\n"
     ]
    }
   ],
   "source": [
    "import os\n",
    "from openff.toolkit.topology import Molecule\n",
    "from openff.toolkit.typing.engines.smirnoff import ForceField as OFF_ForceField\n",
    "\n",
    "try:\n",
    "    from openmm import XmlSerializer, app, unit\n",
    "    from openmm.app import HBonds, NoCutoff, PDBFile, ForceField\n",
    "except ImportError:\n",
    "    from simtk import unit\n",
    "    from simtk.openmm import XmlSerializer, app\n",
    "    from simtk.openmm.app import HBonds, NoCutoff, PDBFile\n",
    "\n",
    "import parmed"
   ]
  },
  {
   "cell_type": "code",
   "execution_count": 2,
   "metadata": {},
   "outputs": [],
   "source": [
    "def find_params_sage(ligand_sdf, ligand_pdb):\n",
    "    \"\"\" Creates a ParmEd object using the specified version of the Sage force field to \n",
    "    generate parameters for the ligand.\n",
    "\n",
    "    Based on the OpenMM github pages:\n",
    "        https://github.com/openmm/openmmforcefields\n",
    "\n",
    "    Bond order, charge and connectivity information is extracted from the .sdf file. The \n",
    "    atomic positions are extracted from the .pdb file. This dual file model ensures that \n",
    "    all information is provided for the force field calculation. It also allows .pdb files \n",
    "    to not contain all required information e.g. files extracted from docking studies.\n",
    "\n",
    "    Parameters\n",
    "       ----------\n",
    "       ligand_sdf : str\n",
    "           Path to ligand SDF\n",
    "       ligand_pdb : str\n",
    "           Path to ligand PDB\n",
    "\n",
    "       Returns\n",
    "       -------\n",
    "       parmed_structure\n",
    "           A ParmEd object containing all information on the ligand.\n",
    "       \"\"\"\n",
    "\n",
    "    # Load in the molecule\n",
    "    ligand_molecule = Molecule(ligand_sdf)\n",
    "    print(\"    Ligand information extracted from the .sdf file...\")\n",
    "\n",
    "    # Specify the \"Sage\" forcefield\n",
    "    force_field = OFF_ForceField(\"openff_unconstrained-2.0.0.offxml\")\n",
    "\n",
    "    # Parametrize the ligand molecule by creating a Topology object from it\n",
    "    ligand_system = force_field.create_openmm_system(ligand_molecule.to_topology())\n",
    "    \n",
    "    # Read in the coordinates of the ligand from the PDB file\n",
    "    ligand_pdbfile = PDBFile(ligand_pdb)\n",
    "    print(\"    Ligand positions extracted from the .pdb file...\")\n",
    "\n",
    "    # Convert the ligand system to a ParmEd object\n",
    "    parmed_structure = parmed.openmm.load_topology(ligand_pdbfile.topology, \n",
    "                                                   ligand_system, \n",
    "                                                   ligand_pdbfile.positions)\n",
    "\n",
    "    return parmed_structure"
   ]
  },
  {
   "cell_type": "code",
   "execution_count": 3,
   "metadata": {},
   "outputs": [],
   "source": [
    "def find_amber_protein_params(receptor_pdb):\n",
    "    \"\"\" Creates a ParmEd object using the AMBER14 force field and TIP3P\n",
    "\n",
    "    Parameters\n",
    "       ----------\n",
    "       receptor_pdb : str\n",
    "           Path to the prepared protein PDB file\n",
    "\n",
    "       Returns\n",
    "       -------\n",
    "       parmed_structure\n",
    "           A ParmEd object containing all information on the proteins and water molecules\n",
    "    \"\"\"\n",
    "    \n",
    "    # Parse the PDB file\n",
    "    receptor_pdbfile = PDBFile(receptor_pdb)\n",
    "\n",
    "    # Load the AMBER protein force field through OpenMM.\n",
    "    #omm_forcefield = app.ForceField(\"amber14-all.xml\", \"tip3p.xml\")\n",
    "    omm_forcefield = app.ForceField(\"amber14/protein.ff14SB.xml\", \"amber14/tip3p.xml\")\n",
    "\n",
    "    # Parameterize the protein.\n",
    "    receptor_system = omm_forcefield.createSystem(receptor_pdbfile.topology,\n",
    "                                                 nonbondedCutoff=1*unit.nanometer,\n",
    "                                                 nonbondedMethod=app.NoCutoff,        \n",
    "                                                 constraints=None,\n",
    "                                                 rigidWater=False)\n",
    "\n",
    "    # Convert the protein System into a ParmEd Structure.\n",
    "    receptor_parmed_structure = parmed.openmm.load_topology(\n",
    "                                            receptor_pdbfile.topology, \n",
    "                                            receptor_system, \n",
    "                                            xyz=receptor_pdbfile.positions)\n",
    "\n",
    "    return receptor_parmed_structure"
   ]
  },
  {
   "cell_type": "code",
   "execution_count": 4,
   "metadata": {},
   "outputs": [],
   "source": [
    "def output_parmed(parmed_structure, prefix):\n",
    "    # Export GROMACS input files.\n",
    "    parmed_structure.save(f'{prefix}.top', overwrite=True)\n",
    "    parmed_structure.save(f'{prefix}.gro', overwrite=True)\n",
    "    print(\"     Input files written.\")"
   ]
  },
  {
   "cell_type": "markdown",
   "metadata": {},
   "source": [
    "### Generate parameters for each system:"
   ]
  },
  {
   "cell_type": "code",
   "execution_count": 5,
   "metadata": {},
   "outputs": [
    {
     "name": "stdout",
     "output_type": "stream",
     "text": [
      "Starting on thrombin...\n",
      "  Working on ligand1...\n",
      "    Ligand information extracted from the .sdf file...\n",
      "    Ligand positions extracted from the .pdb file...\n",
      "     Input files written.\n",
      "     Input files written.\n",
      "  Working on ligand2...\n",
      "    Ligand information extracted from the .sdf file...\n",
      "    Ligand positions extracted from the .pdb file...\n",
      "     Input files written.\n",
      "     Input files written.\n",
      "Starting on cmet...\n",
      "  Working on ligand1...\n",
      "    Ligand information extracted from the .sdf file...\n",
      "    Ligand positions extracted from the .pdb file...\n",
      "     Input files written.\n",
      "     Input files written.\n",
      "  Working on ligand2...\n",
      "    Ligand information extracted from the .sdf file...\n",
      "    Ligand positions extracted from the .pdb file...\n",
      "     Input files written.\n",
      "     Input files written.\n",
      "Starting on cyclod...\n",
      "  Working on ligand1...\n",
      "    Ligand information extracted from the .sdf file...\n",
      "    Ligand positions extracted from the .pdb file...\n",
      "     Input files written.\n",
      "     Input files written.\n",
      "  Working on ligand2...\n",
      "    Ligand information extracted from the .sdf file...\n",
      "    Ligand positions extracted from the .pdb file...\n",
      "     Input files written.\n",
      "     Input files written.\n",
      "  Working on ligand3...\n",
      "    Ligand information extracted from the .sdf file...\n",
      "    Ligand positions extracted from the .pdb file...\n",
      "     Input files written.\n",
      "     Input files written.\n",
      "Starting on jnk1...\n",
      "  Working on ligand1...\n",
      "    Ligand information extracted from the .sdf file...\n",
      "    Ligand positions extracted from the .pdb file...\n",
      "     Input files written.\n",
      "     Input files written.\n",
      "  Working on ligand2...\n",
      "    Ligand information extracted from the .sdf file...\n",
      "    Ligand positions extracted from the .pdb file...\n",
      "     Input files written.\n",
      "     Input files written.\n",
      "Starting on p38...\n",
      "  Working on ligand1...\n",
      "    Ligand information extracted from the .sdf file...\n",
      "    Ligand positions extracted from the .pdb file...\n",
      "     Input files written.\n",
      "     Input files written.\n",
      "  Working on ligand2...\n",
      "    Ligand information extracted from the .sdf file...\n",
      "    Ligand positions extracted from the .pdb file...\n",
      "     Input files written.\n",
      "     Input files written.\n",
      "Starting on brd4...\n",
      "  Working on ligand1...\n",
      "    Ligand information extracted from the .sdf file...\n",
      "    Ligand positions extracted from the .pdb file...\n",
      "     Input files written.\n",
      "     Input files written.\n",
      "  Working on ligand2...\n",
      "    Ligand information extracted from the .sdf file...\n",
      "    Ligand positions extracted from the .pdb file...\n",
      "     Input files written.\n",
      "     Input files written.\n"
     ]
    }
   ],
   "source": [
    "# List of proteins we need to set up:\n",
    "protein_list = ['thrombin',\n",
    "                'cmet',\n",
    "                'cyclod',\n",
    "                'jnk1',\n",
    "                'p38',\n",
    "                'brd4']\n",
    "\n",
    "for p in protein_list:\n",
    "    \n",
    "    print(f\"Starting on {p}...\")\n",
    "    \n",
    "    # make a folder for parameters\n",
    "    if not os.path.exists(f'./parameters/{p}'):\n",
    "        os.makedirs(f'./parameters/{p}')\n",
    "\n",
    "    # generate parameters for the protein\n",
    "    if os.path.isfile(f'./structures/{p}/protein_water.pdb'):\n",
    "        protein_struct = (f'./structures/{p}/protein_water.pdb')\n",
    "    elif os.path.isfile(f'./structures/{p}/protein.pdb'):\n",
    "        protein_struct = (f'./structures/{p}/protein.pdb')\n",
    "    else:\n",
    "        print(\"ERROR: No protein structure found.\")\n",
    "        \n",
    "    protein_parmed_structure = find_amber_protein_params(protein_struct)\n",
    "    \n",
    "    # get ligand filenames:\n",
    "    if p == 'cyclod':\n",
    "        ligand_filenames = ['ligand1', 'ligand2', 'ligand3']\n",
    "    else:\n",
    "        ligand_filenames = ['ligand1', 'ligand2']\n",
    "\n",
    "    # generate files for each ligand\n",
    "    for l in ligand_filenames:\n",
    "        \n",
    "        print(f\"  Working on {l}...\")\n",
    "        \n",
    "        # directory for each ligand\n",
    "        if not os.path.exists(f'./parameters/{p}/{l}'):\n",
    "            os.makedirs(f'./parameters/{p}/{l}')\n",
    "        \n",
    "        # Generate sage parameters\n",
    "        ligand_parmed_struct = find_params_sage(f'./structures/{p}/{l}.sdf',\n",
    "                                                f'./structures/{p}/{l}.pdb')\n",
    "        \n",
    "        # Generate some outputs\n",
    "        output_parmed(ligand_parmed_struct, f'./parameters/{p}/{l}/ligand')\n",
    "   \n",
    "        complex_parmed_structure = protein_parmed_structure + ligand_parmed_struct\n",
    "        \n",
    "        output_parmed(complex_parmed_structure, f'./parameters/{p}/{l}/complex')\n"
   ]
  },
  {
   "cell_type": "markdown",
   "metadata": {},
   "source": [
    "<b>NOTE:</b> This function should not be rerun by participants of the burn in set. This is to ensure that everyone is using the same parameters. If you need to play with the ParmEd system further, please use the example below to read in the AMBER inpt files."
   ]
  },
  {
   "cell_type": "markdown",
   "metadata": {},
   "source": [
    "### Parse input files to return the OpenMM systems "
   ]
  },
  {
   "cell_type": "markdown",
   "metadata": {},
   "source": [
    "It might be necessessary to restore the openMM systems in a new session. In this case, the GMX input files can be read in and a new system created. "
   ]
  },
  {
   "cell_type": "code",
   "execution_count": 8,
   "metadata": {},
   "outputs": [
    {
     "name": "stdout",
     "output_type": "stream",
     "text": [
      "Reading in GROMACS input files for protein: brd4...\n",
      "    Reading in ligand1...\n"
     ]
    },
   ],
   "source": [
    "# List of proteins we need to set up:\n",
    "protein_list = ['brd4',\n",
    "                'cmet',\n",
    "                'cyclod',\n",
    "                'jnk1',\n",
    "                'p38',\n",
    "                'thrombin']\n",
    "\n",
    "for p in protein_list:\n",
    "    \n",
    "    print(f\"Reading in GROMACS input files for protein: {p}...\")\n",
    "    \n",
    "    # get ligand filenames:\n",
    "    if p == 'cyclod':\n",
    "        ligand_filenames = ['ligand1', 'ligand2', 'ligand3']\n",
    "    else:\n",
    "        ligand_filenames = ['ligand1', 'ligand2']\n",
    "\n",
    "    # generate files for each ligand\n",
    "    for l in ligand_filenames:\n",
    "        \n",
    "        print(f\"    Reading in {l}...\")\n",
    "                \n",
    "        ligand_parmed_struct = parmed.load_file(\n",
    "            f'./parameters/{p}/{l}/ligand.top',\n",
    "            f'./parameters/{p}/{l}/ligand.gro')\n",
    "    \n",
    "        complex_parmed_structure = parmed.load_file(\n",
    "            f'./parameters/{p}/{l}/complex.top',\n",
    "            f'./parameters/{p}/{l}/complex.gro')\n",
    "        \n",
    "        print(\"Do something with me...\")"
   ]
  },
  {
   "cell_type": "code",
   "execution_count": null,
   "metadata": {},
   "outputs": [],
   "source": []
  }
 ],
 "metadata": {
  "kernelspec": {
   "display_name": "Python 3 (ipykernel)",
   "language": "python",
   "name": "python3"
  },
  "language_info": {
   "codemirror_mode": {
    "name": "ipython",
    "version": 3
   },
   "file_extension": ".py",
   "mimetype": "text/x-python",
   "name": "python",
   "nbconvert_exporter": "python",
   "pygments_lexer": "ipython3",
   "version": "3.9.9"
  }
 },
 "nbformat": 4,
 "nbformat_minor": 4
}
